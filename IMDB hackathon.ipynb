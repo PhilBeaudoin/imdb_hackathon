{
 "cells": [
  {
   "cell_type": "code",
   "execution_count": 14,
   "metadata": {
    "collapsed": true
   },
   "outputs": [],
   "source": [
    "from StringIO import StringIO\n",
    "import zipfile\n",
    "import csv"
   ]
  },
  {
   "cell_type": "code",
   "execution_count": 4,
   "metadata": {
    "collapsed": false
   },
   "outputs": [],
   "source": [
    "%%storage read --object gs://elementai-research-public/imdb-5000-movie-dataset.zip -v imdb_data_raw"
   ]
  },
  {
   "cell_type": "code",
   "execution_count": 6,
   "metadata": {
    "collapsed": true
   },
   "outputs": [],
   "source": [
    "imbd_data_zip = zipfile.ZipFile(StringIO(imdb_data_raw))"
   ]
  },
  {
   "cell_type": "code",
   "execution_count": 9,
   "metadata": {
    "collapsed": false
   },
   "outputs": [
    {
     "name": "stdout",
     "output_type": "stream",
     "text": [
      "File Name                                             Modified             Size\n",
      "movie_metadata.csv                             2016-08-30 03:36:44      1494688\n"
     ]
    }
   ],
   "source": [
    "imbd_data_zip.printdir()"
   ]
  },
  {
   "cell_type": "code",
   "execution_count": 18,
   "metadata": {
    "collapsed": false
   },
   "outputs": [],
   "source": [
    "imbd_data_csv = imbd_data_zip.open('movie_metadata.csv').read()"
   ]
  },
  {
   "cell_type": "code",
   "execution_count": 24,
   "metadata": {
    "collapsed": false
   },
   "outputs": [],
   "source": [
    "reader = csv.reader(StringIO(imbd_data_csv))"
   ]
  },
  {
   "cell_type": "code",
   "execution_count": 25,
   "metadata": {
    "collapsed": false
   },
   "outputs": [],
   "source": [
    "data = []\n",
    "for row in reader:\n",
    "  data.append(row)"
   ]
  },
  {
   "cell_type": "code",
   "execution_count": 27,
   "metadata": {
    "collapsed": false
   },
   "outputs": [
    {
     "data": {
      "text/plain": [
       "['Color',\n",
       " 'James Cameron',\n",
       " '723',\n",
       " '178',\n",
       " '0',\n",
       " '855',\n",
       " 'Joel David Moore',\n",
       " '1000',\n",
       " '760505847',\n",
       " 'Action|Adventure|Fantasy|Sci-Fi',\n",
       " 'CCH Pounder',\n",
       " 'Avatar\\xc2\\xa0',\n",
       " '886204',\n",
       " '4834',\n",
       " 'Wes Studi',\n",
       " '0',\n",
       " 'avatar|future|marine|native|paraplegic',\n",
       " 'http://www.imdb.com/title/tt0499549/?ref_=fn_tt_tt_1',\n",
       " '3054',\n",
       " 'English',\n",
       " 'USA',\n",
       " 'PG-13',\n",
       " '237000000',\n",
       " '2009',\n",
       " '936',\n",
       " '7.9',\n",
       " '1.78',\n",
       " '33000']"
      ]
     },
     "execution_count": 27,
     "metadata": {},
     "output_type": "execute_result"
    }
   ],
   "source": [
    "data[1]"
   ]
  },
  {
   "cell_type": "code",
   "execution_count": null,
   "metadata": {
    "collapsed": true
   },
   "outputs": [],
   "source": []
  }
 ],
 "metadata": {
  "kernelspec": {
   "display_name": "Python 2",
   "language": "python",
   "name": "python2"
  },
  "language_info": {
   "codemirror_mode": {
    "name": "ipython",
    "version": 2
   },
   "file_extension": ".py",
   "mimetype": "text/x-python",
   "name": "python",
   "nbconvert_exporter": "python",
   "pygments_lexer": "ipython2",
   "version": "2.7.9"
  }
 },
 "nbformat": 4,
 "nbformat_minor": 1
}
